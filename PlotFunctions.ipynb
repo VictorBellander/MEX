{
 "cells": [
  {
   "attachments": {},
   "cell_type": "markdown",
   "metadata": {},
   "source": [
    "# Here all the plotting functions are gathered"
   ]
  },
  {
   "cell_type": "code",
   "execution_count": 5,
   "metadata": {},
   "outputs": [],
   "source": [
    "import numpy as np\n",
    "import matplotlib.pyplot as plt\n",
    "import import_ipynb"
   ]
  },
  {
   "cell_type": "code",
   "execution_count": 6,
   "metadata": {},
   "outputs": [],
   "source": [
    "from yield_strength_model_dual_phase_steels import *"
   ]
  },
  {
   "attachments": {},
   "cell_type": "markdown",
   "metadata": {},
   "source": [
    "Plotting function showing prediction plots with uncertainty"
   ]
  },
  {
   "cell_type": "code",
   "execution_count": 7,
   "metadata": {},
   "outputs": [],
   "source": [
    "def plot_uncertainty(sigma_x, x_matrix, y_matrix, RF_prediction, Y_test, n_allowed_experiments):\n",
    "\n",
    "    plt.errorbar(RF_prediction[:,1], RF_prediction[:,0], yerr=sigma_x[:,0], xerr=sigma_x[:,1], fmt='.', color='red',\n",
    "             ecolor='lightgray', elinewidth=2, capsize=0, label='Predictions')\n",
    "    plt.plot(y_matrix[:,3], y_matrix[:,2], '.', color='g', label='Input data')\n",
    "    plt.plot(Y_test[:,3], Y_test[:,2],'.',color='blue', label='Correct output values')\n",
    "\n",
    "    if n_allowed_experiments!= 0 and n_allowed_experiments != 1:\n",
    "        plt.plot(y_matrix[-n_allowed_experiments:-1,3], y_matrix[-n_allowed_experiments:-1,2], '.', color='black', label='Found data')\n",
    "\n",
    "    plt.xlabel('$\\epsilon_t$, elongation')\n",
    "    plt.ylabel('$\\sigma_y$, yield strength')\n",
    "\n",
    "    plt.legend()"
   ]
  },
  {
   "attachments": {},
   "cell_type": "markdown",
   "metadata": {},
   "source": [
    "Plots how the model has evolved during the testing"
   ]
  },
  {
   "cell_type": "code",
   "execution_count": 4,
   "metadata": {},
   "outputs": [],
   "source": [
    "def plot_traversion(x_matrix, y_matrix, experiments, strategy, index, goal_value):\n",
    "    \n",
    "    found_y_matrix_YS = y_matrix[-experiments:,2]\n",
    "    found_y_matrix_Epsilon = y_matrix[-experiments:,3]\n",
    "\n",
    "    plt.figure(index, figsize=[10,10])    \n",
    "    plt.scatter(goal_value[1], goal_value[0], color='tomato', label='Goal', alpha=0.7, s=100)\n",
    "    plt.scatter(y_matrix[:-experiments,3], y_matrix[:-experiments,2], color='forestgreen', label='Input data', alpha=0.6)\n",
    "\n",
    "    # To show the pareto front we are looking for\n",
    "    slope = -(goal_value[1]/23)/(goal_value[0]/1400)\n",
    "    intersect = goal_value[0]/1400 - slope*goal_value[1]/23\n",
    "    x_vals = np.linspace(goal_value[1]-2, goal_value[1]+2, 10)/23\n",
    "    y_vals = (slope * x_vals + intersect)*1400\n",
    "    x_vals = x_vals*23\n",
    "    plt.plot(x_vals, y_vals, c='tomato', alpha=0.7)\n",
    "\n",
    "    cmap = plt.cm.get_cmap('Blues', 100)\n",
    "\n",
    "    # Assign colors to the data points based on their position in the vector\n",
    "    colors = cmap(np.linspace(0.2, 1, len(found_y_matrix_Epsilon)))\n",
    "\n",
    "    # Create the scatter plot\n",
    "    plt.scatter(found_y_matrix_Epsilon, found_y_matrix_YS, c=colors, label='Found data')\n",
    "    \n",
    "    offset = 0.15\n",
    "\n",
    "    for i, j in enumerate(zip(found_y_matrix_Epsilon, found_y_matrix_YS)):\n",
    "        plt.text(j[0]+offset, j[1]+offset, str(i+1), fontsize=12)\n",
    "    \n",
    "    plt.title(strategy, fontsize=20)\n",
    "    plt.xlabel('$\\epsilon_t$, elongation', fontsize=20)\n",
    "    plt.ylabel('$\\sigma_y$, yield strength', fontsize=20)\n",
    "\n",
    "    plt.legend(prop={'size': 15})"
   ]
  }
 ],
 "metadata": {
  "kernelspec": {
   "display_name": "base",
   "language": "python",
   "name": "python3"
  },
  "language_info": {
   "codemirror_mode": {
    "name": "ipython",
    "version": 3
   },
   "file_extension": ".py",
   "mimetype": "text/x-python",
   "name": "python",
   "nbconvert_exporter": "python",
   "pygments_lexer": "ipython3",
   "version": "3.9.13"
  },
  "orig_nbformat": 4,
  "vscode": {
   "interpreter": {
    "hash": "db11882b94d98d73e1b902c687d8f050b6cd8fa7e740895b94b4abc9222c3fff"
   }
  }
 },
 "nbformat": 4,
 "nbformat_minor": 2
}
